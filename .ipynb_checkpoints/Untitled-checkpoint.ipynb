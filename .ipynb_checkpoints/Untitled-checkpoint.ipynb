{
 "cells": [
  {
   "cell_type": "code",
   "execution_count": 18,
   "metadata": {},
   "outputs": [
    {
     "name": "stdout",
     "output_type": "stream",
     "text": [
      "Requirement already satisfied: rake_nltk in /Users/deja/opt/anaconda3/envs/learn-env/lib/python3.8/site-packages (1.0.6)\r\n",
      "Requirement already satisfied: nltk<4.0.0,>=3.6.2 in /Users/deja/.local/lib/python3.8/site-packages (from rake_nltk) (3.6.6)\r\n",
      "Requirement already satisfied: click in /Users/deja/opt/anaconda3/envs/learn-env/lib/python3.8/site-packages (from nltk<4.0.0,>=3.6.2->rake_nltk) (7.1.2)\r\n",
      "Requirement already satisfied: tqdm in /Users/deja/opt/anaconda3/envs/learn-env/lib/python3.8/site-packages (from nltk<4.0.0,>=3.6.2->rake_nltk) (4.50.2)\r\n",
      "Requirement already satisfied: joblib in /Users/deja/opt/anaconda3/envs/learn-env/lib/python3.8/site-packages (from nltk<4.0.0,>=3.6.2->rake_nltk) (0.17.0)\r\n",
      "Requirement already satisfied: regex>=2021.8.3 in /Users/deja/.local/lib/python3.8/site-packages (from nltk<4.0.0,>=3.6.2->rake_nltk) (2021.11.10)\r\n"
     ]
    },
    {
     "name": "stderr",
     "output_type": "stream",
     "text": [
      "[nltk_data] Downloading package punkt to /Users/deja/nltk_data...\n",
      "[nltk_data]   Package punkt is already up-to-date!\n"
     ]
    }
   ],
   "source": [
    "import pandas as pd\n",
    "import numpy as np\n",
    "import matplotlib.pyplot as plt\n",
    "%matplotlib inline\n",
    "import seaborn as sns\n",
    "import warnings\n",
    "warnings.filterwarnings(\"ignore\")\n",
    "!pip install rake_nltk\n",
    "import nltk\n",
    "from rake_nltk import Rake\n",
    "nltk.download('punkt')\n",
    "from sklearn.metrics.pairwise import cosine_similarity\n",
    "from sklearn.feature_extraction.text import CountVectorizer"
   ]
  },
  {
   "cell_type": "code",
   "execution_count": 2,
   "metadata": {},
   "outputs": [
    {
     "data": {
      "text/html": [
       "<div>\n",
       "<style scoped>\n",
       "    .dataframe tbody tr th:only-of-type {\n",
       "        vertical-align: middle;\n",
       "    }\n",
       "\n",
       "    .dataframe tbody tr th {\n",
       "        vertical-align: top;\n",
       "    }\n",
       "\n",
       "    .dataframe thead th {\n",
       "        text-align: right;\n",
       "    }\n",
       "</style>\n",
       "<table border=\"1\" class=\"dataframe\">\n",
       "  <thead>\n",
       "    <tr style=\"text-align: right;\">\n",
       "      <th></th>\n",
       "      <th>Name</th>\n",
       "      <th>Artist</th>\n",
       "      <th>Composer</th>\n",
       "      <th>Album</th>\n",
       "      <th>Grouping</th>\n",
       "      <th>Work</th>\n",
       "      <th>Movement Number</th>\n",
       "      <th>Movement Count</th>\n",
       "      <th>Movement Name</th>\n",
       "      <th>Genre</th>\n",
       "      <th>...</th>\n",
       "      <th>Volume Adjustment</th>\n",
       "      <th>Kind</th>\n",
       "      <th>Equalizer</th>\n",
       "      <th>Comments</th>\n",
       "      <th>Plays</th>\n",
       "      <th>Last Played</th>\n",
       "      <th>Skips</th>\n",
       "      <th>Last Skipped</th>\n",
       "      <th>My Rating</th>\n",
       "      <th>Location</th>\n",
       "    </tr>\n",
       "  </thead>\n",
       "  <tbody>\n",
       "    <tr>\n",
       "      <th>0</th>\n",
       "      <td>Always (feat. Chris Brown &amp; Ty Dolla $ign)</td>\n",
       "      <td>A1</td>\n",
       "      <td>Not Documented</td>\n",
       "      <td>Always (feat. Chris Brown &amp; Ty Dolla $ign) - S...</td>\n",
       "      <td>NaN</td>\n",
       "      <td>NaN</td>\n",
       "      <td>NaN</td>\n",
       "      <td>NaN</td>\n",
       "      <td>NaN</td>\n",
       "      <td>Hip-Hop/Rap</td>\n",
       "      <td>...</td>\n",
       "      <td>NaN</td>\n",
       "      <td>Apple Music AAC audio file</td>\n",
       "      <td>NaN</td>\n",
       "      <td>NaN</td>\n",
       "      <td>7.0</td>\n",
       "      <td>5/26/21, 6:33 PM</td>\n",
       "      <td>NaN</td>\n",
       "      <td>NaN</td>\n",
       "      <td>NaN</td>\n",
       "      <td>NaN</td>\n",
       "    </tr>\n",
       "    <tr>\n",
       "      <th>1</th>\n",
       "      <td>At Your Best (You Are Love)</td>\n",
       "      <td>Aaliyah</td>\n",
       "      <td>Ernest Isley, Marvin Isley, O'Kelly Isley Jr.,...</td>\n",
       "      <td>Age Ain't Nothing But a Number (Deluxe)</td>\n",
       "      <td>NaN</td>\n",
       "      <td>NaN</td>\n",
       "      <td>NaN</td>\n",
       "      <td>NaN</td>\n",
       "      <td>NaN</td>\n",
       "      <td>R&amp;B/Soul</td>\n",
       "      <td>...</td>\n",
       "      <td>NaN</td>\n",
       "      <td>Apple Music AAC audio file</td>\n",
       "      <td>NaN</td>\n",
       "      <td>NaN</td>\n",
       "      <td>7.0</td>\n",
       "      <td>7/1/19, 6:58 AM</td>\n",
       "      <td>1.0</td>\n",
       "      <td>11/23/20, 2:35 PM</td>\n",
       "      <td>NaN</td>\n",
       "      <td>NaN</td>\n",
       "    </tr>\n",
       "    <tr>\n",
       "      <th>2</th>\n",
       "      <td>I Don't Wanna</td>\n",
       "      <td>Aaliyah</td>\n",
       "      <td>J. Austin, Kevin Hicks, Jazze Pha &amp; Donnie Scantz</td>\n",
       "      <td>Next Friday (Original Motion Picture Soundtrack)</td>\n",
       "      <td>NaN</td>\n",
       "      <td>NaN</td>\n",
       "      <td>NaN</td>\n",
       "      <td>NaN</td>\n",
       "      <td>NaN</td>\n",
       "      <td>R&amp;B/Soul</td>\n",
       "      <td>...</td>\n",
       "      <td>NaN</td>\n",
       "      <td>Apple Music AAC audio file</td>\n",
       "      <td>NaN</td>\n",
       "      <td>NaN</td>\n",
       "      <td>21.0</td>\n",
       "      <td>9/3/20, 11:42 AM</td>\n",
       "      <td>NaN</td>\n",
       "      <td>NaN</td>\n",
       "      <td>NaN</td>\n",
       "      <td>NaN</td>\n",
       "    </tr>\n",
       "    <tr>\n",
       "      <th>3</th>\n",
       "      <td>Kaylee</td>\n",
       "      <td>Aaron &amp; Ash</td>\n",
       "      <td>Aaron Joseph Delbosque &amp; Ashton Christopher Mc...</td>\n",
       "      <td>Better Days - EP</td>\n",
       "      <td>NaN</td>\n",
       "      <td>NaN</td>\n",
       "      <td>NaN</td>\n",
       "      <td>NaN</td>\n",
       "      <td>NaN</td>\n",
       "      <td>Pop</td>\n",
       "      <td>...</td>\n",
       "      <td>NaN</td>\n",
       "      <td>Apple Music AAC audio file</td>\n",
       "      <td>NaN</td>\n",
       "      <td>NaN</td>\n",
       "      <td>1.0</td>\n",
       "      <td>4/29/21, 12:52 PM</td>\n",
       "      <td>NaN</td>\n",
       "      <td>NaN</td>\n",
       "      <td>NaN</td>\n",
       "      <td>NaN</td>\n",
       "    </tr>\n",
       "    <tr>\n",
       "      <th>4</th>\n",
       "      <td>Don't Be Afraid</td>\n",
       "      <td>Aaron Hall</td>\n",
       "      <td>Aaron Hall, James Henry Boxley III, Floyd F. F...</td>\n",
       "      <td>Juice (Original Motion Picture Soundtrack)</td>\n",
       "      <td>NaN</td>\n",
       "      <td>NaN</td>\n",
       "      <td>NaN</td>\n",
       "      <td>NaN</td>\n",
       "      <td>NaN</td>\n",
       "      <td>Soundtrack</td>\n",
       "      <td>...</td>\n",
       "      <td>NaN</td>\n",
       "      <td>Apple Music AAC audio file</td>\n",
       "      <td>NaN</td>\n",
       "      <td>NaN</td>\n",
       "      <td>NaN</td>\n",
       "      <td>NaN</td>\n",
       "      <td>1.0</td>\n",
       "      <td>8/13/19, 9:43 AM</td>\n",
       "      <td>NaN</td>\n",
       "      <td>NaN</td>\n",
       "    </tr>\n",
       "  </tbody>\n",
       "</table>\n",
       "<p>5 rows × 31 columns</p>\n",
       "</div>"
      ],
      "text/plain": [
       "                                         Name       Artist  \\\n",
       "0  Always (feat. Chris Brown & Ty Dolla $ign)           A1   \n",
       "1                 At Your Best (You Are Love)      Aaliyah   \n",
       "2                               I Don't Wanna      Aaliyah   \n",
       "3                                      Kaylee  Aaron & Ash   \n",
       "4                             Don't Be Afraid   Aaron Hall   \n",
       "\n",
       "                                            Composer  \\\n",
       "0                                     Not Documented   \n",
       "1  Ernest Isley, Marvin Isley, O'Kelly Isley Jr.,...   \n",
       "2  J. Austin, Kevin Hicks, Jazze Pha & Donnie Scantz   \n",
       "3  Aaron Joseph Delbosque & Ashton Christopher Mc...   \n",
       "4  Aaron Hall, James Henry Boxley III, Floyd F. F...   \n",
       "\n",
       "                                               Album  Grouping  Work  \\\n",
       "0  Always (feat. Chris Brown & Ty Dolla $ign) - S...       NaN   NaN   \n",
       "1            Age Ain't Nothing But a Number (Deluxe)       NaN   NaN   \n",
       "2   Next Friday (Original Motion Picture Soundtrack)       NaN   NaN   \n",
       "3                                   Better Days - EP       NaN   NaN   \n",
       "4         Juice (Original Motion Picture Soundtrack)       NaN   NaN   \n",
       "\n",
       "   Movement Number  Movement Count  Movement Name        Genre  ...  \\\n",
       "0              NaN             NaN            NaN  Hip-Hop/Rap  ...   \n",
       "1              NaN             NaN            NaN     R&B/Soul  ...   \n",
       "2              NaN             NaN            NaN     R&B/Soul  ...   \n",
       "3              NaN             NaN            NaN          Pop  ...   \n",
       "4              NaN             NaN            NaN   Soundtrack  ...   \n",
       "\n",
       "   Volume Adjustment                        Kind  Equalizer  Comments  Plays  \\\n",
       "0                NaN  Apple Music AAC audio file        NaN       NaN    7.0   \n",
       "1                NaN  Apple Music AAC audio file        NaN       NaN    7.0   \n",
       "2                NaN  Apple Music AAC audio file        NaN       NaN   21.0   \n",
       "3                NaN  Apple Music AAC audio file        NaN       NaN    1.0   \n",
       "4                NaN  Apple Music AAC audio file        NaN       NaN    NaN   \n",
       "\n",
       "         Last Played  Skips       Last Skipped My Rating  Location  \n",
       "0   5/26/21, 6:33 PM    NaN                NaN       NaN       NaN  \n",
       "1    7/1/19, 6:58 AM    1.0  11/23/20, 2:35 PM       NaN       NaN  \n",
       "2   9/3/20, 11:42 AM    NaN                NaN       NaN       NaN  \n",
       "3  4/29/21, 12:52 PM    NaN                NaN       NaN       NaN  \n",
       "4                NaN    1.0   8/13/19, 9:43 AM       NaN       NaN  \n",
       "\n",
       "[5 rows x 31 columns]"
      ]
     },
     "execution_count": 2,
     "metadata": {},
     "output_type": "execute_result"
    }
   ],
   "source": [
    "df= pd.read_csv('Dejas_Music - Dejas_Music.csv')\n",
    "df.head()"
   ]
  },
  {
   "cell_type": "code",
   "execution_count": 3,
   "metadata": {
    "scrolled": false
   },
   "outputs": [
    {
     "name": "stdout",
     "output_type": "stream",
     "text": [
      "<class 'pandas.core.frame.DataFrame'>\n",
      "RangeIndex: 5785 entries, 0 to 5784\n",
      "Data columns (total 31 columns):\n",
      " #   Column             Non-Null Count  Dtype  \n",
      "---  ------             --------------  -----  \n",
      " 0   Name               5785 non-null   object \n",
      " 1   Artist             5785 non-null   object \n",
      " 2   Composer           4499 non-null   object \n",
      " 3   Album              5780 non-null   object \n",
      " 4   Grouping           0 non-null      float64\n",
      " 5   Work               0 non-null      float64\n",
      " 6   Movement Number    0 non-null      float64\n",
      " 7   Movement Count     0 non-null      float64\n",
      " 8   Movement Name      0 non-null      float64\n",
      " 9   Genre              5785 non-null   object \n",
      " 10  Size               5757 non-null   float64\n",
      " 11  Time               5773 non-null   float64\n",
      " 12  Disc Number        5779 non-null   float64\n",
      " 13  Disc Count         5780 non-null   float64\n",
      " 14  Track Number       5780 non-null   float64\n",
      " 15  Track Count        5746 non-null   float64\n",
      " 16  Year               5785 non-null   int64  \n",
      " 17  Date Modified      5785 non-null   object \n",
      " 18  Date Added         5785 non-null   object \n",
      " 19  Bit Rate           5785 non-null   int64  \n",
      " 20  Sample Rate        5785 non-null   int64  \n",
      " 21  Volume Adjustment  0 non-null      float64\n",
      " 22  Kind               5785 non-null   object \n",
      " 23  Equalizer          0 non-null      float64\n",
      " 24  Comments           0 non-null      float64\n",
      " 25  Plays              4932 non-null   float64\n",
      " 26  Last Played        4898 non-null   object \n",
      " 27  Skips              2553 non-null   float64\n",
      " 28  Last Skipped       2528 non-null   object \n",
      " 29  My Rating          0 non-null      float64\n",
      " 30  Location           0 non-null      float64\n",
      "dtypes: float64(18), int64(3), object(10)\n",
      "memory usage: 1.4+ MB\n"
     ]
    }
   ],
   "source": [
    "df.info()"
   ]
  },
  {
   "cell_type": "code",
   "execution_count": 4,
   "metadata": {},
   "outputs": [],
   "source": [
    "df=df.drop('Grouping', axis=1)"
   ]
  },
  {
   "cell_type": "code",
   "execution_count": 5,
   "metadata": {},
   "outputs": [],
   "source": [
    "df=df.drop('Work', axis=1)"
   ]
  },
  {
   "cell_type": "code",
   "execution_count": 6,
   "metadata": {},
   "outputs": [],
   "source": [
    "df=df.drop('Movement Number', axis=1)"
   ]
  },
  {
   "cell_type": "code",
   "execution_count": 7,
   "metadata": {},
   "outputs": [],
   "source": [
    "df=df.drop('Movement Count', axis=1)"
   ]
  },
  {
   "cell_type": "code",
   "execution_count": 8,
   "metadata": {},
   "outputs": [],
   "source": [
    "df=df.drop('Movement Name', axis=1)"
   ]
  },
  {
   "cell_type": "code",
   "execution_count": 9,
   "metadata": {},
   "outputs": [],
   "source": [
    "df=df.drop('Location', axis=1)"
   ]
  },
  {
   "cell_type": "code",
   "execution_count": 10,
   "metadata": {},
   "outputs": [],
   "source": [
    "df=df.drop('My Rating', axis=1)"
   ]
  },
  {
   "cell_type": "code",
   "execution_count": 11,
   "metadata": {},
   "outputs": [],
   "source": [
    "df=df.drop('Comments', axis=1)"
   ]
  },
  {
   "cell_type": "code",
   "execution_count": 12,
   "metadata": {},
   "outputs": [],
   "source": [
    "df=df.drop('Equalizer', axis=1)"
   ]
  },
  {
   "cell_type": "code",
   "execution_count": 13,
   "metadata": {},
   "outputs": [],
   "source": [
    "df=df.drop('Volume Adjustment', axis=1)"
   ]
  },
  {
   "cell_type": "code",
   "execution_count": 16,
   "metadata": {},
   "outputs": [],
   "source": [
    "df=df.drop('Date Modified', axis=1)"
   ]
  },
  {
   "cell_type": "code",
   "execution_count": 17,
   "metadata": {},
   "outputs": [
    {
     "name": "stdout",
     "output_type": "stream",
     "text": [
      "<class 'pandas.core.frame.DataFrame'>\n",
      "RangeIndex: 5785 entries, 0 to 5784\n",
      "Data columns (total 20 columns):\n",
      " #   Column        Non-Null Count  Dtype  \n",
      "---  ------        --------------  -----  \n",
      " 0   Name          5785 non-null   object \n",
      " 1   Artist        5785 non-null   object \n",
      " 2   Composer      4499 non-null   object \n",
      " 3   Album         5780 non-null   object \n",
      " 4   Genre         5785 non-null   object \n",
      " 5   Size          5757 non-null   float64\n",
      " 6   Time          5773 non-null   float64\n",
      " 7   Disc Number   5779 non-null   float64\n",
      " 8   Disc Count    5780 non-null   float64\n",
      " 9   Track Number  5780 non-null   float64\n",
      " 10  Track Count   5746 non-null   float64\n",
      " 11  Year          5785 non-null   int64  \n",
      " 12  Date Added    5785 non-null   object \n",
      " 13  Bit Rate      5785 non-null   int64  \n",
      " 14  Sample Rate   5785 non-null   int64  \n",
      " 15  Kind          5785 non-null   object \n",
      " 16  Plays         4932 non-null   float64\n",
      " 17  Last Played   4898 non-null   object \n",
      " 18  Skips         2553 non-null   float64\n",
      " 19  Last Skipped  2528 non-null   object \n",
      "dtypes: float64(8), int64(3), object(9)\n",
      "memory usage: 904.0+ KB\n"
     ]
    }
   ],
   "source": [
    "df.info()"
   ]
  },
  {
   "cell_type": "code",
   "execution_count": 20,
   "metadata": {},
   "outputs": [
    {
     "data": {
      "text/plain": [
       "array([[<AxesSubplot:title={'center':'Size'}>,\n",
       "        <AxesSubplot:title={'center':'Time'}>,\n",
       "        <AxesSubplot:title={'center':'Disc Number'}>],\n",
       "       [<AxesSubplot:title={'center':'Disc Count'}>,\n",
       "        <AxesSubplot:title={'center':'Track Number'}>,\n",
       "        <AxesSubplot:title={'center':'Track Count'}>],\n",
       "       [<AxesSubplot:title={'center':'Year'}>,\n",
       "        <AxesSubplot:title={'center':'Bit Rate'}>,\n",
       "        <AxesSubplot:title={'center':'Sample Rate'}>],\n",
       "       [<AxesSubplot:title={'center':'Plays'}>,\n",
       "        <AxesSubplot:title={'center':'Skips'}>, <AxesSubplot:>]],\n",
       "      dtype=object)"
      ]
     },
     "execution_count": 20,
     "metadata": {},
     "output_type": "execute_result"
    },
    {
     "data": {
      "image/png": "[encoded data removed]",
      "text/plain": [
       "<Figure size 432x288 with 12 Axes>"
      ]
     },
     "metadata": {
      "needs_background": "light"
     },
     "output_type": "display_data"
    }
   ],
   "source": [
    "df.hist()"
   ]
  },
  {
   "cell_type": "code",
   "execution_count": null,
   "metadata": {},
   "outputs": [],
   "source": []
  },
  {
   "cell_type": "code",
   "execution_count": null,
   "metadata": {},
   "outputs": [],
   "source": []
  },
  {
   "cell_type": "code",
   "execution_count": null,
   "metadata": {},
   "outputs": [],
   "source": []
  },
  {
   "cell_type": "code",
   "execution_count": null,
   "metadata": {},
   "outputs": [],
   "source": []
  },
  {
   "cell_type": "code",
   "execution_count": null,
   "metadata": {},
   "outputs": [],
   "source": []
  },
  {
   "cell_type": "code",
   "execution_count": null,
   "metadata": {},
   "outputs": [],
   "source": []
  },
  {
   "cell_type": "code",
   "execution_count": null,
   "metadata": {},
   "outputs": [],
   "source": []
  },
  {
   "cell_type": "code",
   "execution_count": null,
   "metadata": {},
   "outputs": [],
   "source": []
  },
  {
   "cell_type": "code",
   "execution_count": null,
   "metadata": {},
   "outputs": [],
   "source": []
  }
 ],
 "metadata": {
  "kernelspec": {
   "display_name": "Python (learn-env)",
   "language": "python",
   "name": "learn-env"
  },
  "language_info": {
   "codemirror_mode": {
    "name": "ipython",
    "version": 3
   },
   "file_extension": ".py",
   "mimetype": "text/x-python",
   "name": "python",
   "nbconvert_exporter": "python",
   "pygments_lexer": "ipython3",
   "version": "3.8.5"
  }
 },
 "nbformat": 4,
 "nbformat_minor": 4
}
